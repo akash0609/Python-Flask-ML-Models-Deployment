{
 "cells": [
  {
   "cell_type": "markdown",
   "metadata": {},
   "source": [
    "# Flask Rest API(GET,POST) - curl "
   ]
  },
  {
   "cell_type": "markdown",
   "metadata": {},
   "source": [
    "Rest API - Difference between Get/Post"
   ]
  },
  {
   "cell_type": "code",
   "execution_count": null,
   "metadata": {},
   "outputs": [],
   "source": [
    "# Code to expose API with POST request\n",
    "import json,requests\n",
    "import numpy as np\n",
    "from flask import Flask, abort, jsonify, request\n",
    "import pickle\n",
    "from flask import Response\n",
    "\n",
    "#File name contains the picle object\n",
    "\n",
    "my_random_forest = pickle.load(open(filename, 'rb'))\n",
    "\n",
    "app= Flask(__name__)\n",
    "\n",
    "@app.route('/api/make_predict',methods=['POST']) \n",
    "#POST method is used here. \n",
    "#This means this API will receive data from a requester and it will process the request and return the response in json format here\n",
    "\n",
    "def make_predict():\n",
    "    #all kinds of error checking should go here\n",
    "    data = request.get_json(force=True)\n",
    "    #convert our json to numpy array\n",
    "    predict_request = [data['ques_1_response'],data['ques_2_response'],data['ques_3_response'],data['ques_4_response'],data['ques_5_response'],data['ques_6_response'],data['ques_7_response'],data['ques_8_response'],data['ques_9_response'],data['ques_10_response']]\n",
    "    #predict_request1=np.array(predict_request)\n",
    "    predict_request1 = [predict_request]\n",
    "    #np array goes into random forest\n",
    "    y_hat=my_random_forest.predict(predict_request1)\n",
    "    #return our prediction\n",
    "    output=[y_hat[0]]\n",
    "    prediction_series = list(pd.Series(y_hat[0]))\n",
    "    final_predictions = pd.DataFrame(list(prediction_series))\n",
    "    responses = jsonify(predictions=final_predictions.to_json(orient=\"records\"))\n",
    "   # responses.status_code = 200\n",
    "    return (responses)\n",
    "\n",
    "if __name__ == '__main__':\n",
    "    app.run(port = 8000)"
   ]
  },
  {
   "cell_type": "markdown",
   "metadata": {},
   "source": [
    "Code to request a response from the above POST API"
   ]
  },
  {
   "cell_type": "code",
   "execution_count": null,
   "metadata": {},
   "outputs": [],
   "source": [
    "import json, requests\n",
    "url=\"http://localhost:8000/api/make_predict\"\n",
    "data1=json.dumps({'ques_1_response':0,'ques_2_response':1,'ques_3_response':1,'ques_4_response':0,'ques_5_response':1,'ques_6_response':0,'ques_7_response':0,'ques_8_response':1,'ques_9_response':1,'ques_10_response':1})\n",
    "r=requests.post(url,data1)\n",
    "r.json()"
   ]
  },
  {
   "cell_type": "markdown",
   "metadata": {},
   "source": [
    "Using curl to get response from a POST API. The below code can be run on either Git Bash or Anaconda Prompt."
   ]
  },
  {
   "cell_type": "code",
   "execution_count": null,
   "metadata": {},
   "outputs": [],
   "source": [
    "curl -X POST http://localhost:8000/api/make_predict -d \"{'ques_1_response':0,'ques_2_response':1,'ques_3_response':1,'ques_4_response':0,'ques_5_response':1,'ques_6_response':0,'ques_7_response':0,'ques_8_response':1,'ques_9_response':1,'ques_10_response':1}\""
   ]
  },
  {
   "cell_type": "markdown",
   "metadata": {},
   "source": [
    "Test Code to understand GET method"
   ]
  },
  {
   "cell_type": "markdown",
   "metadata": {},
   "source": [
    "a) A simple json data"
   ]
  },
  {
   "cell_type": "code",
   "execution_count": null,
   "metadata": {},
   "outputs": [],
   "source": [
    "#!flask/bin/python\n",
    "from flask import Flask, jsonify\n",
    "\n",
    "app = Flask(__name__)\n",
    "\n",
    "tasks = [\n",
    "    {\n",
    "        'id': 1,\n",
    "        'title': u'Buy groceries',\n",
    "        'description': u'Milk, Cheese, Pizza, Fruit, Tylenol', \n",
    "        'done': False\n",
    "    }]\n",
    "\n",
    "@app.route('/api/tasks', methods=['GET'])\n",
    "def get_tasks():\n",
    "    return jsonify({'tasks': tasks})\n",
    "\n",
    "if __name__ == '__main__':\n",
    "    app.run(port=8000)"
   ]
  },
  {
   "cell_type": "markdown",
   "metadata": {},
   "source": [
    "b) dataframe converted to json exposed through Flask GET method API"
   ]
  },
  {
   "cell_type": "code",
   "execution_count": null,
   "metadata": {},
   "outputs": [],
   "source": [
    "#!flask/bin/python\n",
    "from flask import Flask, jsonify\n",
    "\n",
    "app = Flask(__name__)\n",
    "\n",
    "response_json = pd.DataFrame.to_json(response)\n",
    "\n",
    "@app.route('/api/tasks', methods=['GET'])\n",
    "def get_tasks():\n",
    "    return jsonify(response_json)\n",
    "\n",
    "if __name__ == '__main__':\n",
    "    app.run(port=8000)"
   ]
  },
  {
   "cell_type": "markdown",
   "metadata": {},
   "source": [
    "curl command to receive response of the above API"
   ]
  },
  {
   "cell_type": "code",
   "execution_count": null,
   "metadata": {},
   "outputs": [],
   "source": [
    "curl -i http://localhost:8000/api/tasks"
   ]
  },
  {
   "cell_type": "markdown",
   "metadata": {},
   "source": [
    "Useful URL's "
   ]
  },
  {
   "cell_type": "markdown",
   "metadata": {},
   "source": [
    "# Video to understand usage of POST, GET, UPDATE & DELETE API methods\n",
    "https://www.youtube.com/watch?v=8f9DfgRGOBo \n",
    "    \n",
    "# Link that have many POST/GET api's to practise   \n",
    "https://reqres.in/"
   ]
  },
  {
   "cell_type": "code",
   "execution_count": null,
   "metadata": {},
   "outputs": [],
   "source": []
  },
  {
   "cell_type": "code",
   "execution_count": null,
   "metadata": {},
   "outputs": [],
   "source": []
  },
  {
   "cell_type": "code",
   "execution_count": null,
   "metadata": {},
   "outputs": [],
   "source": []
  },
  {
   "cell_type": "code",
   "execution_count": null,
   "metadata": {},
   "outputs": [],
   "source": []
  },
  {
   "cell_type": "code",
   "execution_count": null,
   "metadata": {},
   "outputs": [],
   "source": []
  },
  {
   "cell_type": "code",
   "execution_count": null,
   "metadata": {},
   "outputs": [],
   "source": []
  }
 ],
 "metadata": {
  "kernelspec": {
   "display_name": "Python 3",
   "language": "python",
   "name": "python3"
  },
  "language_info": {
   "codemirror_mode": {
    "name": "ipython",
    "version": 3
   },
   "file_extension": ".py",
   "mimetype": "text/x-python",
   "name": "python",
   "nbconvert_exporter": "python",
   "pygments_lexer": "ipython3",
   "version": "3.7.0"
  }
 },
 "nbformat": 4,
 "nbformat_minor": 2
}
